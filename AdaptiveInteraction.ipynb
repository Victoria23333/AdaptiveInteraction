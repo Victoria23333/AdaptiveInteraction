{
 "cells": [
  {
   "cell_type": "code",
   "execution_count": 1,
   "metadata": {},
   "outputs": [],
   "source": [
    "import matplotlib.colors as mcolors\n",
    "import matplotlib.pyplot as plt\n",
    "from tqdm.notebook import tqdm\n",
    "import pandas as pd\n",
    "import numba as nb\n",
    "import numpy as np\n",
    "import os\n",
    "import matplotlib.animation as ma\n",
    "import seaborn as sns\n",
    "from AdaptiveInteraction import AdaptiveInteraction2D\n",
    "from AdaptiveInteraction import StateAnalysis"
   ]
  },
  {
   "cell_type": "markdown",
   "metadata": {},
   "source": [
    "# 动画和终态"
   ]
  },
  {
   "cell_type": "code",
   "execution_count": 21,
   "metadata": {},
   "outputs": [],
   "source": [
    "# 本地\n",
    "if not os.path.exists(\"data_identicalDis_this\"):\n",
    "    os.makedirs(\"data_identicalDis_this\")\n",
    "model = AdaptiveInteraction2D(agentsNum=100, dt=0.1, J=0.1, K = -0.4, r_c=0.5,\n",
    "                              distribution=None, tqdm = True, savePath=\"data_identicalDis_this\")\n",
    "# model.run(16000)\n",
    "# model.plot()"
   ]
  },
  {
   "cell_type": "code",
   "execution_count": 9,
   "metadata": {},
   "outputs": [],
   "source": [
    "# 磁盘\n",
    "\n",
    "model = AdaptiveInteraction2D(agentsNum=100, dt=0.1, J=0.1, K = -0.1, r_c=0.99,\n",
    "                              distribution=None, tqdm = True, savePath=\"F:/adaptive_data/data_Nonedis_Det\")\n"
   ]
  },
  {
   "cell_type": "code",
   "execution_count": 22,
   "metadata": {},
   "outputs": [
    {
     "name": "stdout",
     "output_type": "stream",
     "text": [
      "Please input the savePath\n"
     ]
    },
    {
     "data": {
      "application/vnd.jupyter.widget-view+json": {
       "model_id": "bea834694c124e728d6e256231ca4c43",
       "version_major": 2,
       "version_minor": 0
      },
      "text/plain": [
       "  0%|          | 0/3201 [00:00<?, ?it/s]"
      ]
     },
     "metadata": {},
     "output_type": "display_data"
    },
    {
     "name": "stdout",
     "output_type": "stream",
     "text": [
      "0.9738586672932323\n",
      "0.08937606499333609\n",
      "0.7493850608982751\n",
      "0.0\n"
     ]
    }
   ],
   "source": [
    "sa = StateAnalysis(model)\n",
    "sa.draw_mp4()\n",
    "S = sa.cal_S\n",
    "R = sa.cal_R\n",
    "V = sa.cal_V\n",
    "Gm = sa.find_gamma()\n",
    "print(S)\n",
    "print(R)\n",
    "print(V)\n",
    "print(Gm)"
   ]
  },
  {
   "cell_type": "code",
   "execution_count": null,
   "metadata": {},
   "outputs": [],
   "source": [
    "N = 100\n",
    "J = 0.1\n",
    "K = 0.2\n",
    "range_r_c = np.linspace(0.1, 1, 10)\n",
    "range_J = np.linspace(0.1, 1, 10)\n",
    "\n",
    "\n",
    "for r_c in tqdm(range_r_c, desc='r_c'): \n",
    "    for J in tqdm(range_J, desc='J'):\n",
    "        model = AdaptiveInteraction2D(agentsNum=N, dt=0.1, J=J, K = K, r_c=r_c, savePath=\"data7_model3\")\n",
    "        model.run(3000)"
   ]
  },
  {
   "cell_type": "markdown",
   "metadata": {},
   "source": [
    "# Final States"
   ]
  },
  {
   "cell_type": "code",
   "execution_count": null,
   "metadata": {},
   "outputs": [],
   "source": [
    "import seaborn as sns\n",
    "sns.set_theme(font_scale=1.1, rc={\n",
    "    'figure.figsize': (6, 5),\n",
    "    'axes.facecolor': 'white',\n",
    "    'figure.facecolor': 'white',\n",
    "    'grid.color': '#dddddd',\n",
    "    'grid.linewidth': 0.5,\n",
    "    \"lines.linewidth\": 1.5,\n",
    "    'text.color': '#000000',\n",
    "    'figure.titleweight': \"bold\",\n",
    "    'xtick.color': '#000000',\n",
    "    'ytick.color': '#000000'\n",
    "})"
   ]
  },
  {
   "cell_type": "code",
   "execution_count": null,
   "metadata": {},
   "outputs": [],
   "source": [
    "# 单变量循环\n",
    "N = 100\n",
    "J = 0.1\n",
    "K = 0.2\n",
    "range_r_c = np.arange(0,1.01,0.05)\n",
    "fig = plt.figure(figsize=(6, 33))# 横为3，纵为3x21\n",
    "idx = 1\n",
    "\n",
    "for r_c in range_r_c:#纵轴\n",
    "        model = AdaptiveInteraction2D(agentsNum=N, dt=0.1, J=J, K = K,r_c=r_c,\n",
    "                              distribution=\"uniform0.1\", savePath=\"F:/adaptive_data/data_U0.1\")\n",
    "        sa = StateAnalysis(model, lookIndex=-1)\n",
    "        index = -1\n",
    "        positionX = sa.totalPositionX[index]\n",
    "        phaseTheta = sa.totalPhaseTheta[index]   \n",
    "        pointX = sa.totalPointX[index]\n",
    "        pointTheta = sa.totalPointTheta[index]\n",
    "\n",
    "        ax = plt.subplot(11, 2, idx)# 21行1列，第idx个\n",
    "        maxAbsPos = np.max(np.abs(positionX)) \n",
    "\n",
    "        # dx = pointX[:, 0]\n",
    "        # dy = pointX[:, 1]\n",
    "\n",
    "        # magnitudes = np.sqrt(dx**2 + dy**2)\n",
    "\n",
    "        # magnitudes[magnitudes == 0] = 1\n",
    "\n",
    "        # dx_normalized = dx / magnitudes\n",
    "        # dy_normalized = dy / magnitudes\n",
    "\n",
    "        # fixed_length = 0.1\n",
    "        # dx_fixed = dx_normalized * fixed_length\n",
    "        # dy_fixed = dy_normalized * fixed_length\n",
    "\n",
    "        # qv = ax.quiver(positionX[:, 0], positionX[:, 1], dx_fixed, dy_fixed, \n",
    "        #                phaseTheta, cmap='viridis', clim=(0, 2*np.pi))\n",
    "        scatter = plt.scatter(positionX[:, 0], positionX[:, 1],\n",
    "                              c=phaseTheta, cmap='viridis', clim=(0, 2*np.pi))\n",
    "\n",
    "        ax.set_xlim(-1.1*maxAbsPos, 1.1*maxAbsPos)\n",
    "        ax.set_ylim(-1.1*maxAbsPos, 1.1*maxAbsPos)\n",
    "        ax.set_title(f\"$\\ K={K:.2f}$\")\n",
    "\n",
    "        idx += 1\n",
    "\n",
    "plt.tight_layout()\n",
    "plt.show()"
   ]
  },
  {
   "cell_type": "code",
   "execution_count": null,
   "metadata": {},
   "outputs": [],
   "source": [
    "N = 400\n",
    "J = 0.5\n",
    "r_c = 0.6\n",
    "range_K = np.linspace(-1, 1, 21)\n",
    "# N = 400\n",
    "# K = -0.5\n",
    "# range_r_c = np.linspace(0.62,0.70,5)\n",
    "# range_J = np.linspace(0.92,1.0,5)\n",
    "fig = plt.figure(figsize=(3, 63))\n",
    "idx = 1\n",
    "\n",
    "for K in range_K:#纵轴\n",
    "        model = AdaptiveInteraction2D(agentsNum=N, dt=0.1, J=J, K = K, r_c=r_c, tqdm=True, savePath=\"data8_model3\")\n",
    "        sa = StateAnalysis(model, lookIndex=-1)\n",
    "        index = -1\n",
    "        positionX = sa.totalPositionX[index]\n",
    "        phaseTheta = sa.totalPhaseTheta[index]   \n",
    "        pointX = sa.totalPointX[index]\n",
    "        pointTheta = sa.totalPointTheta[index]\n",
    "\n",
    "        ax = plt.subplot(21, 1, idx)\n",
    "        maxAbsPos = np.max(np.abs(positionX)) \n",
    "\n",
    "        dx = pointX[:, 0]\n",
    "        dy = pointX[:, 1]\n",
    "\n",
    "        magnitudes = np.sqrt(dx**2 + dy**2)\n",
    "\n",
    "        magnitudes[magnitudes == 0] = 1\n",
    "\n",
    "        dx_normalized = dx / magnitudes\n",
    "        dy_normalized = dy / magnitudes\n",
    "\n",
    "        fixed_length = 0.1\n",
    "        dx_fixed = dx_normalized * fixed_length\n",
    "        dy_fixed = dy_normalized * fixed_length\n",
    "\n",
    "        qv = ax.quiver(positionX[:, 0], positionX[:, 1], dx_fixed, dy_fixed, \n",
    "                       phaseTheta, cmap='viridis', clim=(0, 2*np.pi))\n",
    "\n",
    "        ax.set_xlim(-1.1*maxAbsPos, 1.1*maxAbsPos)\n",
    "        ax.set_ylim(-1.1*maxAbsPos, 1.1*maxAbsPos)\n",
    "        ax.set_title(f\"$\\ K={K:.2f}$\")\n",
    "\n",
    "        idx += 1\n",
    "\n",
    "plt.tight_layout()\n",
    "plt.show()"
   ]
  },
  {
   "cell_type": "code",
   "execution_count": null,
   "metadata": {},
   "outputs": [],
   "source": [
    "# 双变量循环\n",
    "\n",
    "N = 100\n",
    "J = 0.1\n",
    "range_r_c = np.arange(0.91, 1, 0.01)\n",
    "range_K = np.arange(-1, 1, 0.1)\n",
    "\n",
    "fig = plt.figure(figsize=(len(range_r_c)*3, len(range_K)*3))\n",
    "idx = 1\n",
    "\n",
    "for K in range_K:#纵轴\n",
    "    for r_c in range_r_c:#横轴\n",
    "        model = AdaptiveInteraction2D(agentsNum=100, dt=0.1, J=J, K = K, r_c=r_c,\n",
    "                              distribution=None, tqdm = False, savePath=\"F:/adaptive_data/data_Nonedis_Det\")\n",
    "        sa = StateAnalysis(model, lookIndex=-1)\n",
    "        index = -1\n",
    "        positionX = sa.totalPositionX[index]\n",
    "        phaseTheta = sa.totalPhaseTheta[index]   \n",
    "        pointX = sa.totalPointX[index]\n",
    "        pointTheta = sa.totalPointTheta[index]\n",
    "\n",
    "        ax = plt.subplot(len(range_K), len(range_r_c), idx)  # 顺序\n",
    "        maxAbsPos = np.max(np.abs(positionX)) \n",
    "        \n",
    "        scatter = plt.scatter(positionX[:, 0], positionX[:, 1],\n",
    "                              c=phaseTheta, cmap='viridis', clim=(0, 2*np.pi))\n",
    "        ax.set_xlim(-1.1*maxAbsPos, 1.1*maxAbsPos)\n",
    "        ax.set_ylim(-1.1*maxAbsPos, 1.1*maxAbsPos)\n",
    "        ax.set_title(f\"$\\ K={K:.2f},\\ r_c ={r_c:.2f},$\")\n",
    "\n",
    "        idx += 1\n",
    "\n",
    "plt.tight_layout()\n",
    "plt.show()"
   ]
  },
  {
   "cell_type": "markdown",
   "metadata": {},
   "source": [
    "# order parameter"
   ]
  },
  {
   "cell_type": "markdown",
   "metadata": {},
   "source": [
    "## S"
   ]
  },
  {
   "cell_type": "markdown",
   "metadata": {},
   "source": [
    "### 热图和折线图"
   ]
  },
  {
   "cell_type": "code",
   "execution_count": null,
   "metadata": {},
   "outputs": [],
   "source": [
    "def cal_S_matrix(N, K, range_r_c, range_J, savePath):\n",
    "    S_values = pd.DataFrame(index=range_J, columns=range_r_c)\n",
    "\n",
    "    for i, r_c in enumerate(range_r_c): \n",
    "        for j, J in enumerate(range_J):\n",
    "            model = AdaptiveInteraction2D(agentsNum=N, dt=0.1, J=J, K = K, r_c=r_c, tqdm=True, savePath=\"data2\")\n",
    "\n",
    "            targetPath = f\"{savePath}/{model}.h5\"\n",
    "            totalPositionX = pd.read_hdf(targetPath, key=\"positionX\")\n",
    "            totalPhaseTheta = pd.read_hdf(targetPath, key=\"phaseTheta\")\n",
    "            TNum = totalPositionX.shape[0] // model.agentsNum\n",
    "\n",
    "            totalPositionX = totalPositionX.values.reshape(TNum, model.agentsNum, 2)\n",
    "            transient_index = int(0.9*totalPositionX.shape[0])\n",
    "            totalPosition_x = totalPositionX[:, :, 0][transient_index:-1]\n",
    "            totalPosition_y = totalPositionX[:, :, 1][transient_index:-1]\n",
    "            totalPhaseTheta = totalPhaseTheta.values.reshape(\n",
    "                TNum, model.agentsNum)[transient_index:-1]\n",
    "            \n",
    "            phi = np.arctan2(totalPosition_y, totalPosition_x)\n",
    "            W_plus = np.exp(1j*(phi + totalPhaseTheta))\n",
    "            W_minus = np.exp(1j*(phi - totalPhaseTheta))\n",
    "\n",
    "            time_OP_plus = np.abs(W_plus.mean(axis=1))\n",
    "            time_OP_minus = np.abs(W_minus.mean(axis=1))\n",
    "            S_plus = time_OP_plus.mean()\n",
    "            S_minus = time_OP_minus.mean()\n",
    "\n",
    "            S = max(S_plus, S_minus)\n",
    "\n",
    "            S_values.loc[J, r_c] = S\n",
    "    return S_values\n",
    "\n",
    "def plot_S_matrix(S_values, K):# S_values是一个DataFrame, K是标题名\n",
    "    fig, ax = plt.subplots(figsize=(10, 8))\n",
    "    sns.heatmap(S_values, ax=ax, cmap=\"viridis\", cbar_kws={'label': 'S'}, square=True)\n",
    "    ax.set_title(f\"$K={K}$\")\n",
    "    ax.set_xlabel(\"$r_c$\")\n",
    "    ax.set_ylabel(\"$J$\")\n",
    "    plt.tight_layout()\n",
    "    plt.savefig(f\"./biGraph/S_K={K}.png\", dpi=200, bbox_inches=\"tight\")\n",
    "    plt.close()\n"
   ]
  },
  {
   "cell_type": "code",
   "execution_count": null,
   "metadata": {},
   "outputs": [],
   "source": [
    "N = 200\n",
    "range_r_c = np.linspace(0.1,1,10)\n",
    "range_J = np.linspace(0.1,1,10)\n",
    "\n",
    "S1 = cal_S_matrix(N, -0.5, range_r_c, range_J, \"data2\")\n",
    "S2 = cal_S_matrix(N, -1, range_r_c, range_J, \"data2\")\n",
    "S3 = cal_S_matrix(N, -2, range_r_c, range_J, \"data2\")\n",
    "# S4 = cal_S_matrix(N, 5, range_r_c, range_J, \"data2\")\n",
    "\n"
   ]
  },
  {
   "cell_type": "code",
   "execution_count": null,
   "metadata": {},
   "outputs": [],
   "source": [
    "S3"
   ]
  },
  {
   "cell_type": "code",
   "execution_count": null,
   "metadata": {},
   "outputs": [],
   "source": [
    "S1_values = S1.loc[0.6]\n",
    "S2_values = S2.loc[0.6]\n",
    "S3_values = S3.loc[0.6]\n",
    "fig, ax = plt.subplots(figsize=(6, 6))\n",
    "ax.plot(S1_values.index, S1_values.values, marker='o')\n",
    "ax.plot(S2_values.index, S2_values.values, marker='o')\n",
    "ax.plot(S3_values.index, S3_values.values, marker='o')\n",
    "ax.legend([\"K=-0.5\", \"K=-1\", \"K=-2\"])\n",
    "ax.set_xlabel(\"$r_c$\")\n",
    "ax.set_ylabel(\"$S$\")\n",
    "plt.tight_layout()\n"
   ]
  },
  {
   "cell_type": "code",
   "execution_count": null,
   "metadata": {},
   "outputs": [],
   "source": [
    "fig,axs = plt.subplots(2,2,figsize=(20,20))\n",
    "S_values_numeric = S1.apply(pd.to_numeric, errors='coerce',)  # Convert non-numeric to NaN\n",
    "S_values_numeric = S_values_numeric.fillna(0)  # Optional: Replace NaN with 0\n",
    "ax1 = axs[0,0].matshow(S_values_numeric, cmap='viridis',interpolation='spline16')\n",
    "axs[0,0].set_xticks(np.arange(len(range_r_c)), range_r_c.round(2))\n",
    "axs[0,0].set_yticks(np.arange(len(range_J)), range_J.round(2))\n",
    "axs[0,0].set_xlabel(\"$r_c$\")\n",
    "axs[0,0].set_ylabel(\"$J$\")\n",
    "axs[0,0].set_title(f\"$S-K={-0.5}$\", fontsize=16)\n",
    "fig.colorbar(ax1, ax=axs[0,0], fraction=0.046, pad=0.04)\n",
    "axs[0,0].grid(False)\n",
    "\n",
    "# S_values_numeric = S2.apply(pd.to_numeric, errors='coerce',)  # Convert non-numeric to NaN\n",
    "# S_values_numeric = S_values_numeric.fillna(0)  # Optional: Replace NaN with 0\n",
    "# ax2 = axs[0,1].matshow(S_values_numeric, cmap='viridis',interpolation='spline16')\n",
    "# axs[0,1].set_xticks(np.arange(len(range_r_c)), range_r_c.round(2))\n",
    "# axs[0,1].set_yticks(np.arange(len(range_J)), range_J.round(2))\n",
    "# axs[0,1].set_xlabel(\"$r_c$\")\n",
    "# axs[0,1].set_ylabel(\"$J$\")\n",
    "# axs[0,1].set_title(f\"$S-K={1}$\", fontsize=16)\n",
    "# fig.colorbar(ax2, ax=axs[0,1], fraction=0.046, pad=0.04)\n",
    "\n",
    "# S_values_numeric = S3.apply(pd.to_numeric, errors='coerce',)  # Convert non-numeric to NaN\n",
    "# S_values_numeric = S_values_numeric.fillna(0)  # Optional: Replace NaN with 0\n",
    "# ax3 = axs[1,0].matshow(S_values_numeric, cmap='viridis',interpolation='spline16')\n",
    "# axs[1,0].set_xticks(np.arange(len(range_r_c)), range_r_c.round(2))\n",
    "# axs[1,0].set_yticks(np.arange(len(range_J)), range_J.round(2))\n",
    "# axs[1,0].set_xlabel(\"$r_c$\")\n",
    "# axs[1,0].set_ylabel(\"$J$\")\n",
    "# axs[1,0].set_title(f\"$S-K={2}$\", fontsize=16)\n",
    "# fig.colorbar(ax3, ax=axs[1,0], fraction=0.046, pad=0.04)\n",
    "\n",
    "# S_values_numeric = S4.apply(pd.to_numeric, errors='coerce',)  # Convert non-numeric to NaN\n",
    "# S_values_numeric = S_values_numeric.fillna(0)  # Optional: Replace NaN with 0\n",
    "# ax4 = axs[1,1].matshow(S_values_numeric, cmap='viridis',interpolation='spline16')\n",
    "# axs[1,1].set_xticks(np.arange(len(range_r_c)), range_r_c.round(2))\n",
    "# axs[1,1].set_yticks(np.arange(len(range_J)), range_J.round(2))\n",
    "# axs[1,1].set_xlabel(\"$r_c$\")\n",
    "# axs[1,1].set_ylabel(\"$J$\")\n",
    "# axs[1,1].set_title(f\"$S-K={5}$\", fontsize=16)\n",
    "# fig.colorbar(ax4, ax=axs[1,1], fraction=0.046, pad=0.04)\n",
    "\n",
    "\n"
   ]
  },
  {
   "cell_type": "code",
   "execution_count": null,
   "metadata": {},
   "outputs": [],
   "source": [
    "N = 400\n",
    "range_K = np.linspace(-1, 1, 21)\n",
    "r_c = 0.5\n",
    "J = 0.5\n",
    "S_values = pd.DataFrame(index=range_K, columns=[0])\n",
    "\n",
    "for i, K in enumerate(range_K):\n",
    "    model = AdaptiveInteraction2D(agentsNum=N, dt=0.1, J=J, K = K, r_c=r_c, tqdm=False, savePath=\"data8_model3\")\n",
    "\n",
    "    targetPath = f\"./data8_model3/{model}.h5\"\n",
    "    totalPositionX = pd.read_hdf(targetPath, key=\"positionX\")\n",
    "    totalPhaseTheta = pd.read_hdf(targetPath, key=\"phaseTheta\")\n",
    "    TNum = totalPositionX.shape[0] // model.agentsNum\n",
    "\n",
    "    totalPositionX = totalPositionX.values.reshape(TNum, model.agentsNum, 2)\n",
    "    transient_index = int(0.9*totalPositionX.shape[0])\n",
    "    totalPosition_x = totalPositionX[:, :, 0][transient_index:-1]\n",
    "    totalPosition_y = totalPositionX[:, :, 1][transient_index:-1]\n",
    "    totalPhaseTheta = totalPhaseTheta.values.reshape(\n",
    "        TNum, model.agentsNum)[transient_index:-1]\n",
    "    \n",
    "    phi = np.arctan2(totalPosition_y, totalPosition_x)\n",
    "    W_plus = np.exp(1j*(phi + totalPhaseTheta))\n",
    "    W_minus = np.exp(1j*(phi - totalPhaseTheta))\n",
    "\n",
    "    time_OP_plus = np.abs(W_plus.mean(axis=1))\n",
    "    time_OP_minus = np.abs(W_minus.mean(axis=1))\n",
    "    S_plus = time_OP_plus.mean()\n",
    "    S_minus = time_OP_minus.mean()\n",
    "\n",
    "    S = max(S_plus, S_minus)\n",
    "\n",
    "    S_values.loc[K, 0] = S\n",
    "\n",
    "# S_values导出为excel\n",
    "S_values.to_excel(\"S_values.xlsx\")\n",
    "\n"
   ]
  },
  {
   "cell_type": "markdown",
   "metadata": {},
   "source": [
    "### S对rc"
   ]
  },
  {
   "cell_type": "code",
   "execution_count": 2,
   "metadata": {},
   "outputs": [],
   "source": [
    "J = 0.1\n",
    "range_r_c = np.arange(0,1.01,0.1)\n",
    "# 设置一个存储R的DataFrame\n",
    "S_values_1 = pd.DataFrame(index=range_r_c, columns=[0])\n",
    "S_values_2 = pd.DataFrame(index=range_r_c, columns=[0])\n",
    "S_values_3 = pd.DataFrame(index=range_r_c, columns=[0])\n",
    "S_values_4 = pd.DataFrame(index=range_r_c, columns=[0])\n",
    "S_values_5 = pd.DataFrame(index=range_r_c, columns=[0])\n",
    "S_values_6 = pd.DataFrame(index=range_r_c, columns=[0])\n",
    "S_values_7 = pd.DataFrame(index=range_r_c, columns=[0])\n",
    "\n",
    "\n",
    "for r_c in range_r_c:\n",
    "    model = AdaptiveInteraction2D(agentsNum=100, dt=0.1, J=J, K = -1, r_c=r_c,\n",
    "                              distribution=None, savePath=\"F:/adaptive_data/data_identicalDis\")\n",
    "    sa = StateAnalysis(model)\n",
    "    S = sa.cal_S\n",
    "    S_values_1.loc[r_c, 0] = S\n",
    "\n",
    "for r_c in range_r_c:\n",
    "    model = AdaptiveInteraction2D(agentsNum=100, dt=0.1, J=J, K = -0.8, r_c=r_c,\n",
    "                              distribution=None, savePath=\"F:/adaptive_data/data_identicalDis\")\n",
    "    sa = StateAnalysis(model)\n",
    "    S = sa.cal_S\n",
    "    S_values_2.loc[r_c, 0] = S\n",
    "\n",
    "for r_c in range_r_c:\n",
    "    model = AdaptiveInteraction2D(agentsNum=100, dt=0.1, J=J, K = -0.6, r_c=r_c,\n",
    "                              distribution=None, savePath=\"F:/adaptive_data/data_identicalDis\")\n",
    "    sa = StateAnalysis(model)\n",
    "    S = sa.cal_S\n",
    "    S_values_3.loc[r_c, 0] = S\n",
    "\n",
    "for r_c in range_r_c:   \n",
    "    model = AdaptiveInteraction2D(agentsNum=100, dt=0.1, J=J, K = -0.4, r_c=r_c,\n",
    "                              distribution=None, savePath=\"F:/adaptive_data/data_identicalDis\")\n",
    "    sa = StateAnalysis(model)\n",
    "    S = sa.cal_S\n",
    "    S_values_4.loc[r_c, 0] = S\n",
    "\n",
    "for r_c in range_r_c:\n",
    "    model = AdaptiveInteraction2D(agentsNum=100, dt=0.1, J=J, K = -0.3, r_c=r_c,\n",
    "                                distribution=None, savePath=\"F:/adaptive_data/data_identicalDis\")\n",
    "    sa = StateAnalysis(model)\n",
    "    S = sa.cal_S\n",
    "    S_values_5.loc[r_c, 0] = S\n",
    "\n",
    "for r_c in range_r_c:\n",
    "    model = AdaptiveInteraction2D(agentsNum=100, dt=0.1, J=J, K = -0.2, r_c=r_c,\n",
    "                                distribution=None, savePath=\"F:/adaptive_data/data_identicalDis\")\n",
    "    sa = StateAnalysis(model)\n",
    "    S = sa.cal_S\n",
    "    S_values_6.loc[r_c, 0] = S\n",
    "\n",
    "for r_c in range_r_c:\n",
    "    model = AdaptiveInteraction2D(agentsNum=100, dt=0.1, J=J, K = -0.1, r_c=r_c,\n",
    "                                distribution=None, savePath=\"F:/adaptive_data/data_identicalDis\")\n",
    "    sa = StateAnalysis(model)\n",
    "    S = sa.cal_S\n",
    "    S_values_7.loc[r_c, 0] = S\n",
    "\n",
    "\n"
   ]
  },
  {
   "cell_type": "code",
   "execution_count": 8,
   "metadata": {},
   "outputs": [
    {
     "data": {
      "image/png": "[encoded data removed]",
      "text/plain": [
       "<Figure size 1800x1800 with 1 Axes>"
      ]
     },
     "metadata": {},
     "output_type": "display_data"
    }
   ],
   "source": [
    "# 利用R_values画图，横坐标为r_c，纵坐标为R\n",
    "fig, ax = plt.subplots(figsize=(6, 6), dpi = 300)# 默认像素为100，可以自己设置\n",
    "ax.plot(S_values_1.index, S_values_1.values, marker='o',color='r',label = 'K = -1')\n",
    "ax.plot(S_values_2.index, S_values_2.values, marker='o',color='g',label = 'K = -0.8')\n",
    "ax.plot(S_values_3.index, S_values_3.values, marker='o',color='b',label = 'K = -0.6')\n",
    "ax.plot(S_values_4.index, S_values_4.values, marker='o',color='y',label = 'K = -0.4')\n",
    "ax.plot(S_values_5.index, S_values_5.values, marker='o',color='c',label = 'K = -0.3')\n",
    "ax.plot(S_values_6.index, S_values_6.values, marker='o',color='m',label = 'K = -0.2')\n",
    "ax.plot(S_values_7.index, S_values_7.values, marker='o',color='k',label = 'K = -0.1')\n",
    "\n",
    "\n",
    "# 增加图例，红色线为K=0.9，绿色线\n",
    "ax.legend()\n",
    "\n",
    "ax.set_xlabel(\"$r_c$\")\n",
    "ax.set_ylabel(\"$S$\")\n",
    "plt.tight_layout()\n",
    "plt.show()"
   ]
  },
  {
   "cell_type": "markdown",
   "metadata": {},
   "source": [
    "### S对K"
   ]
  },
  {
   "cell_type": "code",
   "execution_count": null,
   "metadata": {},
   "outputs": [],
   "source": [
    "J = 0.1\n",
    "range_K = np.arange(-1, 1.01, 0.1)\n",
    "# 设置一个存储R的DataFrame\n",
    "S_values_1 = pd.DataFrame(index=range_K, columns=[0])\n",
    "S_values_2 = pd.DataFrame(index=range_K, columns=[0])\n",
    "S_values_3 = pd.DataFrame(index=range_K, columns=[0])\n",
    "S_values_4 = pd.DataFrame(index=range_K, columns=[0])\n",
    "S_values_5 = pd.DataFrame(index=range_K, columns=[0])\n",
    "S_values_6 = pd.DataFrame(index=range_K, columns=[0])\n",
    "S_values_7 = pd.DataFrame(index=range_K, columns=[0])\n",
    "\n",
    "\n",
    "for K in range_K:\n",
    "    model = AdaptiveInteraction2D(agentsNum=100, dt=0.1, J=J, K = K, r_c=0.9,\n",
    "                              distribution=None, savePath=\"F:/adaptive_data/data_identicalDis\")\n",
    "    sa = StateAnalysis(model)\n",
    "    S = sa.cal_S\n",
    "    S_values_1.loc[K, 0] = S\n",
    "\n",
    "for K in range_K:\n",
    "    model = AdaptiveInteraction2D(agentsNum=100, dt=0.1, J=J, K = K, r_c=0.8,\n",
    "                              distribution=None, savePath=\"F:/adaptive_data/data_identicalDis\")\n",
    "    sa = StateAnalysis(model)\n",
    "    S = sa.cal_S\n",
    "    S_values_2.loc[K, 0] = S\n",
    "\n",
    "for K in range_K:\n",
    "    model = AdaptiveInteraction2D(agentsNum=100, dt=0.1, J=J, K = K, r_c=0.7,\n",
    "                              distribution=None, savePath=\"F:/adaptive_data/data_identicalDis\")\n",
    "    sa = StateAnalysis(model)\n",
    "    S = sa.cal_S\n",
    "    S_values_3.loc[K, 0] = S\n",
    "\n",
    "for K in range_K:\n",
    "    model = AdaptiveInteraction2D(agentsNum=100, dt=0.1, J=J, K = K, r_c=0.6,\n",
    "                              distribution=None, savePath=\"F:/adaptive_data/data_identicalDis\")\n",
    "    sa = StateAnalysis(model)\n",
    "    S = sa.cal_S\n",
    "    S_values_4.loc[K, 0] = S\n",
    "\n",
    "for K in range_K:\n",
    "    model = AdaptiveInteraction2D(agentsNum=100, dt=0.1, J=J, K = K, r_c=0.5,\n",
    "                              distribution=None, savePath=\"F:/adaptive_data/data_identicalDis\")\n",
    "    sa = StateAnalysis(model)\n",
    "    S = sa.cal_S\n",
    "    S_values_5.loc[K, 0] = S\n",
    "\n",
    "for K in range_K:\n",
    "    model = AdaptiveInteraction2D(agentsNum=100, dt=0.1, J=J, K = K, r_c=0.4,\n",
    "                              distribution=None, savePath=\"F:/adaptive_data/data_identicalDis\")\n",
    "    sa = StateAnalysis(model)\n",
    "    S = sa.cal_S\n",
    "    S_values_6.loc[K, 0] = S\n",
    "\n",
    "for K in range_K:\n",
    "    model = AdaptiveInteraction2D(agentsNum=100, dt=0.1, J=J, K = K, r_c=0.3,\n",
    "                              distribution=None, savePath=\"F:/adaptive_data/data_identicalDis\")\n",
    "    sa = StateAnalysis(model)\n",
    "    S = sa.cal_S\n",
    "    S_values_7.loc[K, 0] = S\n",
    "\n",
    "    \n",
    "\n"
   ]
  },
  {
   "cell_type": "code",
   "execution_count": null,
   "metadata": {},
   "outputs": [],
   "source": [
    "S_values_1"
   ]
  },
  {
   "cell_type": "code",
   "execution_count": null,
   "metadata": {},
   "outputs": [],
   "source": [
    "# 利用S_values画图，横坐标为K，纵坐标为S\n",
    "fig, ax = plt.subplots(figsize=(6, 6))\n",
    "ax.plot(S_values_1.index, S_values_1.values, marker='o',color='r',label = 'rc = 0.9')\n",
    "ax.plot(S_values_2.index, S_values_2.values, marker='o',color='g',label = 'rc = 0.8')\n",
    "ax.plot(S_values_3.index, S_values_3.values, marker='o',color='b',label = 'rc = 0.7')\n",
    "ax.plot(S_values_4.index, S_values_4.values, marker='o',color='y',label = 'rc = 0.6')\n",
    "ax.plot(S_values_5.index, S_values_5.values, marker='o',color='c',label = 'rc = 0.5')\n",
    "ax.plot(S_values_6.index, S_values_6.values, marker='o',color='m',label = 'rc = 0.4')\n",
    "ax.plot(S_values_7.index, S_values_7.values, marker='o',color='k',label = 'rc = 0.3')\n",
    "\n",
    "\n",
    "# 增加图例，红色线为K=0.9，绿色线\n",
    "ax.legend()\n",
    "\n",
    "ax.set_xlabel(\"$K$\")\n",
    "ax.set_ylabel(\"$S$\")\n",
    "plt.tight_layout()\n",
    "plt.show()"
   ]
  },
  {
   "cell_type": "markdown",
   "metadata": {},
   "source": [
    "## R"
   ]
  },
  {
   "cell_type": "code",
   "execution_count": null,
   "metadata": {},
   "outputs": [],
   "source": [
    "J = 0.1\n",
    "K = 0.9\n",
    "range_r_c = np.arange(0,1.01,0.1)\n",
    "# 设置一个存储R的DataFrame\n",
    "R_values_1 = pd.DataFrame(index=range_r_c, columns=[0])\n",
    "R_values_2 = pd.DataFrame(index=range_r_c, columns=[0])\n",
    "R_values_3 = pd.DataFrame(index=range_r_c, columns=[0])\n",
    "R_values_4 = pd.DataFrame(index=range_r_c, columns=[0])\n",
    "R_values_5 = pd.DataFrame(index=range_r_c, columns=[0])\n",
    "\n",
    "for r_c in range_r_c:\n",
    "    model = AdaptiveInteraction2D(agentsNum=100, dt=0.1, J=J, K = K, r_c=r_c,\n",
    "                              distribution=None, savePath=\"F:/adaptive_data/data_identicalDis\")\n",
    "    sa = StateAnalysis(model)\n",
    "    R = sa.cal_R\n",
    "    R_values_1.loc[r_c, 0] = R\n"
   ]
  },
  {
   "cell_type": "code",
   "execution_count": null,
   "metadata": {},
   "outputs": [],
   "source": [
    "J = 0.1\n",
    "K = 0.6\n",
    "range_r_c = np.arange(0,1.01,0.1)\n",
    "\n",
    "for r_c in range_r_c:\n",
    "    model = AdaptiveInteraction2D(agentsNum=100, dt=0.1, J=J, K = K, r_c=r_c,\n",
    "                              distribution=None, savePath=\"F:/adaptive_data/data_identicalDis\")\n",
    "    sa = StateAnalysis(model)\n",
    "    R = sa.cal_R\n",
    "    R_values_2.loc[r_c, 0] = R"
   ]
  },
  {
   "cell_type": "code",
   "execution_count": null,
   "metadata": {},
   "outputs": [],
   "source": [
    "J = 0.1\n",
    "K = 0.3\n",
    "range_r_c = np.arange(0,1.01,0.1)\n",
    "\n",
    "for r_c in range_r_c:\n",
    "    model = AdaptiveInteraction2D(agentsNum=100, dt=0.1, J=J, K = K, r_c=r_c,\n",
    "                              distribution=None, savePath=\"F:/adaptive_data/data_identicalDis\")\n",
    "    sa = StateAnalysis(model)\n",
    "    R = sa.cal_R\n",
    "    R_values_3.loc[r_c, 0] = R"
   ]
  },
  {
   "cell_type": "code",
   "execution_count": null,
   "metadata": {},
   "outputs": [],
   "source": [
    "J = 0.1\n",
    "K = 0.1\n",
    "range_r_c = np.arange(0,1.01,0.1)\n",
    "\n",
    "for r_c in range_r_c:\n",
    "    model = AdaptiveInteraction2D(agentsNum=100, dt=0.1, J=J, K = K, r_c=r_c,\n",
    "                              distribution=None, savePath=\"F:/adaptive_data/data_identicalDis\")\n",
    "    sa = StateAnalysis(model)\n",
    "    R = sa.cal_R\n",
    "    R_values_4.loc[r_c, 0] = R"
   ]
  },
  {
   "cell_type": "code",
   "execution_count": null,
   "metadata": {},
   "outputs": [],
   "source": [
    "J = 0.1\n",
    "K = 0.5\n",
    "range_r_c = np.arange(0,1.01,0.1)\n",
    "\n",
    "for r_c in range_r_c:\n",
    "    model = AdaptiveInteraction2D(agentsNum=100, dt=0.1, J=J, K = K, r_c=r_c,\n",
    "                              distribution=None, savePath=\"F:/adaptive_data/data_identicalDis\")\n",
    "    sa = StateAnalysis(model)\n",
    "    R = sa.cal_R\n",
    "    R_values_5.loc[r_c, 0] = R"
   ]
  },
  {
   "cell_type": "code",
   "execution_count": null,
   "metadata": {},
   "outputs": [],
   "source": [
    "# 利用R_values画图，横坐标为r_c，纵坐标为R\n",
    "fig, ax = plt.subplots(figsize=(6, 6))\n",
    "ax.plot(R_values_1.index, R_values_1.values, marker='o',color='r',label = 'K = 0.9')\n",
    "ax.plot(R_values_2.index, R_values_2.values, marker='o',color='g',label = 'K = 0.6')\n",
    "ax.plot(R_values_5.index, R_values_5.values, marker='o',color='purple',label = 'K = 0.5')\n",
    "ax.plot(R_values_3.index, R_values_3.values, marker='o',color='b',label = 'K = 0.3')\n",
    "ax.plot(R_values_4.index, R_values_4.values, marker='o',color='y',label = 'K = 0.1')\n",
    "\n",
    "# 增加图例，红色线为K=0.9，绿色线\n",
    "ax.legend()\n",
    "\n",
    "ax.set_xlabel(\"$r_c$\")\n",
    "ax.set_ylabel(\"$R$\")\n",
    "plt.tight_layout()\n",
    "plt.show()"
   ]
  },
  {
   "cell_type": "code",
   "execution_count": null,
   "metadata": {},
   "outputs": [],
   "source": [
    "J = 0.1\n",
    "range_r_c = np.arange(0,1.01,0.1)\n",
    "R_values = {}\n",
    "for i in range(1, 22):  # 从1到21\n",
    "    R_values[f'R_values_{i}'] = pd.DataFrame(index=range_r_c, columns=[0])\n",
    " \n",
    "# 定义 K 值的列表\n",
    "K_values = [1.0, 0.9, 0.8, 0.7, 0.6, 0.5, 0.4, 0.3, 0.2, 0.1, -0.0, \n",
    "            -0.1, -0.2, -0.3, -0.4, -0.5, -0.6, -0.7, -0.8, -0.9, -1.0]\n",
    " \n",
    "# 使用循环来遍历 K 值，并创建模型、进行分析和存储结果\n",
    "for i, K in enumerate(K_values, start=1):\n",
    "    for r_c in range_r_c:\n",
    "        model = AdaptiveInteraction2D(agentsNum=100, dt=0.1, J=J, K=K, r_c=r_c,\n",
    "                                     distribution=None, savePath=\"F:/adaptive_data/data_identicalDis\")\n",
    "        sa = StateAnalysis(model)\n",
    "        R = sa.cal_R  # 假设 cal_R 是一个方法，它返回所需的 R 值\n",
    "        R_values[f'R_values_{i}'].loc[r_c, 0] = R"
   ]
  },
  {
   "cell_type": "code",
   "execution_count": null,
   "metadata": {},
   "outputs": [],
   "source": [
    "fig, ax = plt.subplots(figsize=(6, 6))\n",
    "# ax.plot(R_values['R_values_1'].index, R_values['R_values_1'].values, marker='o',color='r',label = 'K = 1')\n",
    "# ax.plot(R_values['R_values_2'].index, R_values['R_values_2'].values, marker='o',color='g',label = 'K = 0.9')\n",
    "# ax.plot(R_values['R_values_3'].index, R_values['R_values_3'].values, marker='o',color='b',label = 'K = 0.8')\n",
    "# ax.plot(R_values['R_values_4'].index, R_values['R_values_4'].values, marker='o',color='y',label = 'K = 0.7')\n",
    "# ax.plot(R_values['R_values_5'].index, R_values['R_values_5'].values, marker='o',color='c',label = 'K = 0.6')\n",
    "# ax.plot(R_values['R_values_6'].index, R_values['R_values_6'].values, marker='o',color='m',label = 'K = 0.5')\n",
    "# ax.plot(R_values['R_values_7'].index, R_values['R_values_7'].values, marker='o',color='k',label = 'K = 0.4')\n",
    "# ax.plot(R_values['R_values_8'].index, R_values['R_values_8'].values, marker='o',color='orange',label = 'K = 0.3')\n",
    "# ax.plot(R_values['R_values_9'].index, R_values['R_values_9'].values, marker='o',color='purple',label = 'K = 0.2')\n",
    "# ax.plot(R_values['R_values_10'].index, R_values['R_values_10'].values, marker='o',color='brown',label = 'K = 0.1')\n",
    "# ax.plot(R_values['R_values_11'].index, R_values['R_values_11'].values, marker='o',color='pink',label = 'K = 0')\n",
    "ax.plot(R_values['R_values_12'].index, R_values['R_values_12'].values, marker='o',color='r',label = 'K = -0.1')\n",
    "ax.plot(R_values['R_values_13'].index, R_values['R_values_13'].values, marker='o',color='g',label = 'K = -0.2')\n",
    "ax.plot(R_values['R_values_14'].index, R_values['R_values_14'].values, marker='o',color='b',label = 'K = -0.3')\n",
    "ax.plot(R_values['R_values_15'].index, R_values['R_values_15'].values, marker='o',color='y',label = 'K = -0.4')\n",
    "ax.plot(R_values['R_values_16'].index, R_values['R_values_16'].values, marker='o',color='c',label = 'K = -0.5')\n",
    "ax.plot(R_values['R_values_17'].index, R_values['R_values_17'].values, marker='o',color='m',label = 'K = -0.6')\n",
    "ax.plot(R_values['R_values_18'].index, R_values['R_values_18'].values, marker='o',color='k',label = 'K = -0.7')\n",
    "ax.plot(R_values['R_values_19'].index, R_values['R_values_19'].values, marker='o',color='orange',label = 'K = -0.8')\n",
    "ax.plot(R_values['R_values_20'].index, R_values['R_values_20'].values, marker='o',color='purple',label = 'K = -0.9')\n",
    "ax.plot(R_values['R_values_21'].index, R_values['R_values_21'].values, marker='o',color='brown',label = 'K = -1')\n",
    "\n",
    "ax.legend()\n",
    "ax.set_xlabel(\"$r_c$\")\n",
    "ax.set_ylabel(\"$R$\")\n",
    "plt.tight_layout()\n",
    "plt.show()"
   ]
  },
  {
   "cell_type": "markdown",
   "metadata": {},
   "source": [
    "## $V=\\frac{1}{N}\\Sigma \\sqrt{\\dot{x}^2+\\dot{y}^2}$"
   ]
  },
  {
   "cell_type": "code",
   "execution_count": null,
   "metadata": {},
   "outputs": [],
   "source": [
    "def cal_V_matrix(N, K, range_r_c, range_J, savePath):\n",
    "    V_values = pd.DataFrame(index=range_J, columns=range_r_c)\n",
    "\n",
    "    for i, r_c in enumerate(range_r_c): \n",
    "        for j, J in enumerate(range_J):\n",
    "            model = AdaptiveInteraction2D(agentsNum=N, dt=0.1, J=J, K = K, r_c=r_c, tqdm=True, savePath=\"data2\")\n",
    "\n",
    "            targetPath = f\"./data2/{model}.h5\"\n",
    "            totalPointX = pd.read_hdf(targetPath, key=\"pointX\")\n",
    "            TNum = totalPointX.shape[0] // model.agentsNum\n",
    "\n",
    "            totalPointX = totalPointX.values.reshape(TNum, model.agentsNum, 2)\n",
    "            transient_index = int(0.9*totalPointX.shape[0])\n",
    "            totalPoint_x = totalPointX[:, :, 0][transient_index:-1]\n",
    "            totalPoint_y = totalPointX[:, :, 1][transient_index:-1]\n",
    "\n",
    "            V = np.mean(np.sqrt(totalPoint_x**2 + totalPoint_y**2))\n",
    "\n",
    "            V_values.loc[J, r_c] = V\n",
    "    return V_values"
   ]
  },
  {
   "cell_type": "code",
   "execution_count": null,
   "metadata": {},
   "outputs": [],
   "source": [
    "N = 200\n",
    "range_r_c = np.linspace(0.1,1,10)\n",
    "range_J = np.linspace(0.1,1,10)\n",
    "\n",
    "V1 = cal_V_matrix(N, -0.5, range_r_c, range_J, \"data2\")\n",
    "V2 = cal_V_matrix(N, -1, range_r_c, range_J, \"data2\")\n",
    "V3 = cal_V_matrix(N, -2, range_r_c, range_J, \"data2\")"
   ]
  },
  {
   "cell_type": "code",
   "execution_count": null,
   "metadata": {},
   "outputs": [],
   "source": [
    "V1_values = V1.loc[0.6]\n",
    "V2_values = V2.loc[0.6]\n",
    "V3_values = V3.loc[0.6]\n",
    "fig, ax = plt.subplots(figsize=(6, 6))\n",
    "ax.plot(V1_values.index, V1_values.values, marker='o')\n",
    "ax.plot(V2_values.index, V2_values.values, marker='o')\n",
    "ax.plot(V3_values.index, V3_values.values, marker='o')\n",
    "ax.legend([\"K=-0.5\", \"K=-1\", \"K=-2\"])\n",
    "ax.set_xlabel(\"$r_c$\")\n",
    "ax.set_ylabel(\"$V$\")\n",
    "plt.tight_layout()\n"
   ]
  },
  {
   "cell_type": "code",
   "execution_count": null,
   "metadata": {},
   "outputs": [],
   "source": [
    "fig,axs = plt.subplots(2,2,figsize=(20,20))\n",
    "V_values_numeric = V1.apply(pd.to_numeric, errors='coerce',)  # Convert non-numeric to NaN\n",
    "V_values_numeric = V_values_numeric.fillna(0)  # Optional: Replace NaN with 0\n",
    "ax1 = axs[0,0].matshow(V_values_numeric, cmap='viridis',interpolation='spline16')# 'viridis', 'viridis_r',\n",
    "axs[0,0].set_xticks(np.arange(len(range_r_c)), range_r_c.round(2))\n",
    "axs[0,0].set_yticks(np.arange(len(range_J)), range_J.round(2))\n",
    "axs[0,0].set_xlabel(\"$r_c$\")\n",
    "axs[0,0].set_ylabel(\"$J$\")\n",
    "axs[0,0].set_title(f\"$V-K={-0.5}$\", fontsize=16)\n",
    "fig.colorbar(ax1, ax=axs[0,0], fraction=0.046, pad=0.04)\n",
    "axs[0,0].grid(False)\n",
    "\n",
    "# V_values_numeric = V2.apply(pd.to_numeric, errors='coerce',)  # Convert non-numeric to NaN\n",
    "# V_values_numeric = V_values_numeric.fillna(0)  # Optional: Replace NaN with 0\n",
    "# ax2 = axs[0,1].matshow(V_values_numeric, cmap='viridis',interpolation='spline16')\n",
    "# axs[0,1].set_xticks(np.arange(len(range_r_c)), range_r_c.round(2))\n",
    "# axs[0,1].set_yticks(np.arange(len(range_J)), range_J.round(2))\n",
    "# axs[0,1].set_xlabel(\"$r_c$\")\n",
    "# axs[0,1].set_ylabel(\"$J$\")\n",
    "# axs[0,1].set_title(f\"$V-K={-1}$\", fontsize=16)\n",
    "# fig.colorbar(ax2, ax=axs[0,1], fraction=0.046, pad=0.04)\n",
    "\n",
    "# V_values_numeric = V3.apply(pd.to_numeric, errors='coerce',)  # Convert non-numeric to NaN\n",
    "# V_values_numeric = V_values_numeric.fillna(0)  # Optional: Replace NaN with 0\n",
    "# ax3 = axs[1,0].matshow(V_values_numeric, cmap='viridis',interpolation='spline16')\n",
    "# axs[1,0].set_xticks(np.arange(len(range_r_c)), range_r_c.round(2))\n",
    "# axs[1,0].set_yticks(np.arange(len(range_J)), range_J.round(2))\n",
    "# axs[1,0].set_xlabel(\"$r_c$\")\n",
    "# axs[1,0].set_ylabel(\"$J$\")\n",
    "# axs[1,0].set_title(f\"$V-K={-2}$\", fontsize=16)\n",
    "# fig.colorbar(ax3, ax=axs[1,0], fraction=0.046, pad=0.04)\n",
    "\n"
   ]
  },
  {
   "cell_type": "code",
   "execution_count": null,
   "metadata": {},
   "outputs": [],
   "source": [
    "N = 200\n",
    "K = -0.5\n",
    "dt=0.1\n",
    "r_c = 0.1\n",
    "J = 0.1\n",
    "V_values = pd.DataFrame(index=range_J, columns=range_r_c)\n",
    "\n",
    "model = AdaptiveInteraction2D(agentsNum=N, dt=dt, J=J, K = K, r_c=r_c, tqdm=True, savePath=\"data2\")\n",
    "targetPath = f\"./data2/{model}.h5\"\n",
    "totalPointX = pd.read_hdf(targetPath, key=\"pointX\")\n",
    "TNum = totalPointX.shape[0] // model.agentsNum\n",
    "\n",
    "totalPointX = totalPointX.values.reshape(TNum, model.agentsNum, 2)\n",
    "transient_index = int(0.9*totalPointX.shape[0])\n",
    "totalPoint_x = totalPointX[:, :, 0][transient_index:-1]\n",
    "totalPoint_y = totalPointX[:, :, 1][transient_index:-1]\n",
    "\n",
    "V = np.sqrt(totalPoint_x**2 + totalPoint_y**2).mean()\n",
    "\n",
    "V\n",
    "\n"
   ]
  },
  {
   "cell_type": "code",
   "execution_count": null,
   "metadata": {},
   "outputs": [],
   "source": [
    "N = 200\n",
    "K= -0.5\n",
    "range_r_c = np.linspace(0.1,1,10)\n",
    "range_J = np.linspace(0.1,1,10)\n",
    "V_values = pd.DataFrame(index=range_J, columns=range_r_c)\n",
    "\n",
    "\n",
    "\n",
    "for i, r_c in enumerate(range_r_c): \n",
    "    for j, J in enumerate(range_J):\n",
    "        model = AdaptiveInteraction2D(agentsNum=N, dt=0.1, J=J, K = K, r_c=r_c, tqdm=True, savePath=\"data2\")\n",
    "\n",
    "        targetPath = f\"./data2/{model}.h5\"\n",
    "        totalPointX = pd.read_hdf(targetPath, key=\"pointX\")\n",
    "        TNum = totalPointX.shape[0] // model.agentsNum\n",
    "\n",
    "        totalPointX = totalPointX.values.reshape(TNum, model.agentsNum, 2)\n",
    "        transient_index = int(0.9*totalPointX.shape[0])\n",
    "        totalPoint_x = totalPointX[:, :, 0][transient_index:-1]\n",
    "        totalPoint_y = totalPointX[:, :, 1][transient_index:-1]\n",
    "\n",
    "        V = np.mean(np.sqrt(totalPoint_x**2 + totalPoint_y**2))\n",
    "\n",
    "        V_values.loc[J, r_c] = V\n",
    "\n",
    "V_values"
   ]
  },
  {
   "cell_type": "code",
   "execution_count": null,
   "metadata": {},
   "outputs": [],
   "source": [
    "V_values"
   ]
  },
  {
   "cell_type": "code",
   "execution_count": null,
   "metadata": {},
   "outputs": [],
   "source": [
    "N = 400\n",
    "range_K = np.linspace(-1, 1, 21)\n",
    "r_c = 0.6\n",
    "J = 0.5\n",
    "V_values = pd.DataFrame(index=range_K, columns=[0])\n",
    "\n",
    "for i, K in enumerate(range_K):\n",
    "    model = AdaptiveInteraction2D(agentsNum=N, dt=0.1, J=J, K = K, r_c=r_c, tqdm=False, savePath=\"data8_model3\")\n",
    "\n",
    "    targetPath = f\"./data8_model3/{model}.h5\"\n",
    "    totalPointX = pd.read_hdf(targetPath, key=\"pointX\")\n",
    "    TNum = totalPointX.shape[0] // model.agentsNum\n",
    "\n",
    "    totalPointX = totalPointX.values.reshape(TNum, model.agentsNum, 2)\n",
    "    transient_index = int(0.9*totalPointX.shape[0])\n",
    "    totalPoint_x = totalPointX[:, :, 0][transient_index:-1]\n",
    "    totalPoint_y = totalPointX[:, :, 1][transient_index:-1]\n",
    "\n",
    "    V = np.mean(np.sqrt(totalPoint_x**2 + totalPoint_y**2))\n",
    "\n",
    "    V_values.loc[K, 0] = V\n",
    "\n",
    "# V_values的值乘以10的3次方\n",
    "V_values = V_values*1e2\n",
    "V_values.to_excel(\"V_values.xlsx\")"
   ]
  },
  {
   "cell_type": "markdown",
   "metadata": {},
   "source": [
    "# $\\gamma$"
   ]
  },
  {
   "cell_type": "code",
   "execution_count": null,
   "metadata": {},
   "outputs": [],
   "source": [
    "def find_gamma_single(sa):\n",
    "    tolerance = 0.2\n",
    "    gamma = 0\n",
    "    phi = np.arctan2(sa.tranPosition_y, sa.tranPosition_x)\n",
    "    for i in range(1, phi.shape[1]):\n",
    "        y = phi[:,i]\n",
    "        temp = np.sin(y)\n",
    "        temp = (max (temp) - min(temp)) / 2.0\n",
    "        if temp > 1-tolerance:\n",
    "            gamma += 1\n",
    "    return gamma/   phi.shape[1]"
   ]
  },
  {
   "cell_type": "code",
   "execution_count": null,
   "metadata": {},
   "outputs": [],
   "source": [
    "model = AdaptiveInteraction2D(agentsNum=200, dt=0.1, J=0.9, K = -0.5, r_c=0.9, tqdm = True, savePath=\"data2\")\n",
    "sa = StateAnalysis(model)\n",
    "find_gamma_single(sa)"
   ]
  },
  {
   "cell_type": "code",
   "execution_count": null,
   "metadata": {},
   "outputs": [],
   "source": [
    "N = 200\n",
    "range_r_c = np.linspace(0.1,1,10)\n",
    "range_J = np.linspace(0.1,1,10)\n",
    "gam1 = pd.DataFrame(index=range_J, columns=range_r_c)\n",
    "for i, r_c in enumerate(range_r_c): \n",
    "    for j, J in enumerate(range_J):\n",
    "        model = AdaptiveInteraction2D(agentsNum=N, dt=0.1, J=J, K = -0.5, r_c=r_c, savePath=\"data2\")\n",
    "        sa = StateAnalysis(model)\n",
    "        gamma = find_gamma_single(sa)\n",
    "        gam1.loc[J, r_c] = gamma\n",
    "gam2 = pd.DataFrame(index=range_J, columns=range_r_c)\n",
    "for i, r_c in enumerate(range_r_c):\n",
    "    for j, J in enumerate(range_J):\n",
    "        model = AdaptiveInteraction2D(agentsNum=N, dt=0.1, J=J, K = -1, r_c=r_c, savePath=\"data2\")\n",
    "        sa = StateAnalysis(model)\n",
    "        gamma = find_gamma_single(sa)\n",
    "        gam2.loc[J, r_c] = gamma\n",
    "gam3 = pd.DataFrame(index=range_J, columns=range_r_c)\n",
    "for i, r_c in enumerate(range_r_c):\n",
    "    for j, J in enumerate(range_J):\n",
    "        model = AdaptiveInteraction2D(agentsNum=N, dt=0.1, J=J, K = -2, r_c=r_c, savePath=\"data2\")\n",
    "        sa = StateAnalysis(model)\n",
    "        gamma = find_gamma_single(sa)\n",
    "        gam3.loc[J, r_c] = gamma"
   ]
  },
  {
   "cell_type": "code",
   "execution_count": null,
   "metadata": {},
   "outputs": [],
   "source": [
    "gam1_values = gam1.loc[0.6]\n",
    "gam2_values = gam2.loc[0.6]\n",
    "gam3_values = gam3.loc[0.6]\n",
    "fig, ax = plt.subplots(figsize=(6, 6))\n",
    "ax.plot(gam1_values.index, gam1_values.values, marker='o')\n",
    "ax.plot(gam2_values.index, gam2_values.values, marker='o')\n",
    "ax.plot(gam3_values.index, gam3_values.values, marker='o')\n",
    "ax.legend([\"K=-0.5\", \"K=-1\", \"K=-2\"])\n",
    "ax.set_xlabel(\"$r_c$\")\n",
    "ax.set_ylabel(\"$gamma$\")\n",
    "plt.tight_layout()"
   ]
  },
  {
   "cell_type": "code",
   "execution_count": null,
   "metadata": {},
   "outputs": [],
   "source": [
    "fig,axs = plt.subplots(2,2,figsize=(20,20))\n",
    "gam1_values_numeric = gam1.apply(pd.to_numeric, errors='coerce',)  # Convert non-numeric to NaN\n",
    "gam1_values_numeric = gam1_values_numeric.fillna(0)  # Optional: Replace NaN with 0\n",
    "ax1 = axs[0,0].matshow(gam1_values_numeric, cmap='viridis',interpolation='spline16')# 'viridis', 'viridis_r',\n",
    "axs[0,0].set_xticks(np.arange(len(range_r_c)), range_r_c.round(2))\n",
    "axs[0,0].set_yticks(np.arange(len(range_J)), range_J.round(2))\n",
    "axs[0,0].set_xlabel(\"$r_c$\")\n",
    "axs[0,0].set_ylabel(\"$J$\")\n",
    "axs[0,0].set_title(f\"$gamma-K={-0.5}$\", fontsize=16)\n",
    "fig.colorbar(ax1, ax=axs[0,0], fraction=0.046, pad=0.04)\n",
    "axs[0,0].grid(False)"
   ]
  },
  {
   "cell_type": "code",
   "execution_count": null,
   "metadata": {},
   "outputs": [],
   "source": [
    "def find_gamma(N, K, range_r_c, range_J):\n",
    "    gamma_values = pd.DataFrame(index=range_J, columns=range_r_c)\n",
    "\n",
    "    for i, r_c in enumerate(range_r_c): \n",
    "        for j, J in enumerate(range_J):\n",
    "            model = AdaptiveInteraction2D(agentsNum=N, dt=0.1, J=J, K = K, r_c=r_c, savePath=\"data2\")\n",
    "\n",
    "            targetPath = f\"./data2/{model}.h5\"\n",
    "            totalPointX = pd.read_hdf(targetPath, key=\"pointX\")\n",
    "            TNum = totalPointX.shape[0] // model.agentsNum\n",
    "\n",
    "            totalPointX = totalPointX.values.reshape(TNum, model.agentsNum, 2)\n",
    "            transient_index = int(0.9*totalPointX.shape[0])\n",
    "            totalPoint_x = totalPointX[:, :, 0][transient_index:-1]\n",
    "            totalPoint_y = totalPointX[:, :, 1][transient_index:-1]\n",
    "\n",
    "            tolerance = 0.1\n",
    "            gamma = 0\n",
    "            phi = np.arctan2(totalPoint_y, totalPoint_x)\n",
    "            for i in range(1, phi.shape[1]):\n",
    "                y = phi[:,i]\n",
    "                temp = np.sin(y)\n",
    "                temp = (max (temp) - min(temp)) / 2.0\n",
    "                if temp > 1-tolerance:\n",
    "                    gamma += 1\n",
    "\n",
    "            gamma_values.loc[J, r_c] = gamma/phi.shape[1]\n",
    "    return gamma_values"
   ]
  },
  {
   "cell_type": "code",
   "execution_count": null,
   "metadata": {},
   "outputs": [],
   "source": [
    "N = 200\n",
    "range_r_c = np.linspace(0.1,1,10)\n",
    "range_J = np.linspace(0.1,1,10)\n",
    "\n",
    "gam1 = find_gamma(N, -0.5, range_r_c, range_J)\n",
    "gam1"
   ]
  },
  {
   "cell_type": "code",
   "execution_count": null,
   "metadata": {},
   "outputs": [],
   "source": []
  },
  {
   "cell_type": "code",
   "execution_count": null,
   "metadata": {},
   "outputs": [],
   "source": [
    "N = 200\n",
    "range_r_c = np.linspace(0.1,1,10)\n",
    "range_J = np.linspace(0.1,1,10)\n",
    "\n",
    "gam1 = sa.find_gamma(N, -0.5, range_r_c, range_J, \"data2\")\n",
    "# V2 = cal_V_matrix(N, -1, range_r_c, range_J, \"data2\")\n",
    "# V3 = cal_V_matrix(N, -2, range_r_c, range_J, \"data2\")"
   ]
  },
  {
   "cell_type": "markdown",
   "metadata": {},
   "source": [
    "# Local r"
   ]
  },
  {
   "cell_type": "code",
   "execution_count": null,
   "metadata": {},
   "outputs": [],
   "source": [
    "# "
   ]
  },
  {
   "cell_type": "code",
   "execution_count": null,
   "metadata": {},
   "outputs": [],
   "source": [
    "model = AdaptiveInteraction2D(agentsNum=200, dt=0.1, J=1, K = -0.5, r_c=0.8, tqdm = True, savePath=\"data2\")\n",
    "sa = StateAnalysis(model)\n",
    "# try_data = sa.tranPosition_x[-1]\n",
    "# try_data_matrix = try_data - try_data[:, np.newaxis]\n",
    "# result = np.sqrt((1+np.cos(try_data_matrix))/2)\n",
    "# result.shape\n",
    "sa.cal_local_r\n",
    "model.omega\n",
    "# 以model.omega为横轴，model.cal_local_r为纵轴画散点图\n",
    "plt.scatter(model.omega, sa.cal_local_r)\n",
    "plt.xlabel(\"omega\")\n",
    "plt.ylabel(\"local_r\")\n"
   ]
  },
  {
   "cell_type": "code",
   "execution_count": null,
   "metadata": {},
   "outputs": [],
   "source": [
    "model = AdaptiveInteraction2D(agentsNum=200, dt=0.1, J=1, K = -0.5, r_c=0.7, tqdm = True, savePath=\"data2\")\n",
    "sa = StateAnalysis(model)\n",
    "# try_data = sa.tranPosition_x[-1]\n",
    "# try_data_matrix = try_data - try_data[:, np.newaxis]\n",
    "# result = np.sqrt((1+np.cos(try_data_matrix))/2)\n",
    "# result.shape\n",
    "sa.cal_local_r\n",
    "model.omega\n",
    "# 以model.omega为横轴，model.cal_local_r为纵轴画散点图\n",
    "plt.scatter(model.omega, sa.cal_local_r)\n",
    "plt.xlabel(\"omega\")\n",
    "plt.ylabel(\"local_r\")\n"
   ]
  },
  {
   "cell_type": "code",
   "execution_count": null,
   "metadata": {},
   "outputs": [],
   "source": [
    "model = AdaptiveInteraction2D(agentsNum=200, dt=0.1, J=0.5, K = -0.5, r_c=0.7, tqdm = True, savePath=\"data2\")\n",
    "sa = StateAnalysis(model)\n",
    "# try_data = sa.tranPosition_x[-1]\n",
    "# try_data_matrix = try_data - try_data[:, np.newaxis]\n",
    "# result = np.sqrt((1+np.cos(try_data_matrix))/2)\n",
    "# result.shape\n",
    "sa.cal_local_r\n",
    "model.omega\n",
    "plt.scatter(model.omega, sa.cal_local_r)\n",
    "plt.xlabel(\"omega\")\n",
    "plt.ylabel(\"local_r\")"
   ]
  },
  {
   "cell_type": "code",
   "execution_count": null,
   "metadata": {},
   "outputs": [],
   "source": [
    "model = AdaptiveInteraction2D(agentsNum=200, dt=0.1, J=0.5, K = -0.5, r_c=0.6, tqdm = True, savePath=\"data2\")\n",
    "sa = StateAnalysis(model)\n",
    "# try_data = sa.tranPosition_x[-1]\n",
    "# try_data_matrix = try_data - try_data[:, np.newaxis]\n",
    "# result = np.sqrt((1+np.cos(try_data_matrix))/2)\n",
    "# result.shape\n",
    "sa.cal_local_r\n",
    "model.omega\n",
    "plt.scatter(model.omega, sa.cal_local_r)\n",
    "plt.xlabel(\"omega\")\n",
    "plt.ylabel(\"local_r\")"
   ]
  },
  {
   "cell_type": "markdown",
   "metadata": {},
   "source": [
    "# 空间角与相位角的关系"
   ]
  },
  {
   "cell_type": "code",
   "execution_count": null,
   "metadata": {},
   "outputs": [
    {
     "ename": "FileNotFoundError",
     "evalue": "File ./data_identicalDis/Adaptive2D_J0.10_K-0.10_rc0.99_Num100.h5 does not exist",
     "output_type": "error",
     "traceback": [
      "\u001b[1;31m---------------------------------------------------------------------------\u001b[0m",
      "\u001b[1;31mFileNotFoundError\u001b[0m                         Traceback (most recent call last)",
      "Cell \u001b[1;32mIn[11], line 3\u001b[0m\n\u001b[0;32m      1\u001b[0m \u001b[38;5;66;03m# 本地\u001b[39;00m\n\u001b[0;32m      2\u001b[0m targetPath \u001b[38;5;241m=\u001b[39m \u001b[38;5;124mf\u001b[39m\u001b[38;5;124m\"\u001b[39m\u001b[38;5;124m./data_identicalDis/\u001b[39m\u001b[38;5;132;01m{\u001b[39;00mmodel\u001b[38;5;132;01m}\u001b[39;00m\u001b[38;5;124m.h5\u001b[39m\u001b[38;5;124m\"\u001b[39m\n\u001b[1;32m----> 3\u001b[0m totalPositionX \u001b[38;5;241m=\u001b[39m pd\u001b[38;5;241m.\u001b[39mread_hdf(targetPath, key\u001b[38;5;241m=\u001b[39m\u001b[38;5;124m\"\u001b[39m\u001b[38;5;124mpositionX\u001b[39m\u001b[38;5;124m\"\u001b[39m)\n\u001b[0;32m      4\u001b[0m totalPhaseTheta \u001b[38;5;241m=\u001b[39m pd\u001b[38;5;241m.\u001b[39mread_hdf(targetPath, key\u001b[38;5;241m=\u001b[39m\u001b[38;5;124m\"\u001b[39m\u001b[38;5;124mphaseTheta\u001b[39m\u001b[38;5;124m\"\u001b[39m)\n\u001b[0;32m      5\u001b[0m TNum \u001b[38;5;241m=\u001b[39m totalPositionX\u001b[38;5;241m.\u001b[39mshape[\u001b[38;5;241m0\u001b[39m] \u001b[38;5;241m/\u001b[39m\u001b[38;5;241m/\u001b[39m model\u001b[38;5;241m.\u001b[39magentsNum\n",
      "File \u001b[1;32md:\\ProgramData\\anaconda3\\Lib\\site-packages\\pandas\\io\\pytables.py:423\u001b[0m, in \u001b[0;36mread_hdf\u001b[1;34m(path_or_buf, key, mode, errors, where, start, stop, columns, iterator, chunksize, **kwargs)\u001b[0m\n\u001b[0;32m    420\u001b[0m     exists \u001b[38;5;241m=\u001b[39m \u001b[38;5;28;01mFalse\u001b[39;00m\n\u001b[0;32m    422\u001b[0m \u001b[38;5;28;01mif\u001b[39;00m \u001b[38;5;129;01mnot\u001b[39;00m exists:\n\u001b[1;32m--> 423\u001b[0m     \u001b[38;5;28;01mraise\u001b[39;00m \u001b[38;5;167;01mFileNotFoundError\u001b[39;00m(\u001b[38;5;124mf\u001b[39m\u001b[38;5;124m\"\u001b[39m\u001b[38;5;124mFile \u001b[39m\u001b[38;5;132;01m{\u001b[39;00mpath_or_buf\u001b[38;5;132;01m}\u001b[39;00m\u001b[38;5;124m does not exist\u001b[39m\u001b[38;5;124m\"\u001b[39m)\n\u001b[0;32m    425\u001b[0m store \u001b[38;5;241m=\u001b[39m HDFStore(path_or_buf, mode\u001b[38;5;241m=\u001b[39mmode, errors\u001b[38;5;241m=\u001b[39merrors, \u001b[38;5;241m*\u001b[39m\u001b[38;5;241m*\u001b[39mkwargs)\n\u001b[0;32m    426\u001b[0m \u001b[38;5;66;03m# can't auto open/close if we are using an iterator\u001b[39;00m\n\u001b[0;32m    427\u001b[0m \u001b[38;5;66;03m# so delegate to the iterator\u001b[39;00m\n",
      "\u001b[1;31mFileNotFoundError\u001b[0m: File ./data_identicalDis/Adaptive2D_J0.10_K-0.10_rc0.99_Num100.h5 does not exist"
     ]
    }
   ],
   "source": [
    "# 本地\n",
    "targetPath = f\"./data_identicalDis_Det/{model}.h5\"\n",
    "totalPositionX = pd.read_hdf(targetPath, key=\"positionX\")\n",
    "totalPhaseTheta = pd.read_hdf(targetPath, key=\"phaseTheta\")\n",
    "TNum = totalPositionX.shape[0] // model.agentsNum\n",
    "\n",
    "totalPositionX = totalPositionX.values.reshape(TNum, model.agentsNum, 2)\n",
    "totalPhaseTheta = totalPhaseTheta.values.reshape(TNum, model.agentsNum)\n",
    "phi = np.arctan2(totalPositionX[:, :, 1], totalPositionX[:, :, 0])\n",
    "final_phi = phi[-1]\n",
    "final_theta = totalPhaseTheta[-1]\n",
    "# finaltheta为横坐标，final_phi为纵坐标画散点图\n",
    "plt.scatter(final_theta, final_phi)\n",
    "plt.xlabel(\"theta\")\n",
    "plt.ylabel(\"phi\")\n",
    "\n",
    "# meantotalPhaseTheta = np.mean(totalPhaseTheta, axis=0)"
   ]
  },
  {
   "cell_type": "code",
   "execution_count": 14,
   "metadata": {},
   "outputs": [
    {
     "data": {
      "text/plain": [
       "Text(0, 0.5, 'phi')"
      ]
     },
     "execution_count": 14,
     "metadata": {},
     "output_type": "execute_result"
    },
    {
     "data": {
      "image/png": "[encoded data removed]",
      "text/plain": [
       "<Figure size 600x500 with 1 Axes>"
      ]
     },
     "metadata": {},
     "output_type": "display_data"
    }
   ],
   "source": [
    "#磁盘\n",
    "targetPath = f\"F:/adaptive_data/data_NoneDis_det/{model}.h5\"\n",
    "totalPositionX = pd.read_hdf(targetPath, key=\"positionX\")\n",
    "totalPhaseTheta = pd.read_hdf(targetPath, key=\"phaseTheta\")\n",
    "TNum = totalPositionX.shape[0] // model.agentsNum\n",
    "\n",
    "totalPositionX = totalPositionX.values.reshape(TNum, model.agentsNum, 2)\n",
    "totalPhaseTheta = totalPhaseTheta.values.reshape(TNum, model.agentsNum)\n",
    "phi = np.arctan2(totalPositionX[:, :, 1], totalPositionX[:, :, 0])\n",
    "final_phi = phi[-1]\n",
    "final_theta = totalPhaseTheta[-1]\n",
    "# finaltheta为横坐标，final_phi为纵坐标画散点图\n",
    "plt.scatter(final_theta, final_phi)\n",
    "plt.xlabel(\"theta\")\n",
    "plt.ylabel(\"phi\")\n",
    "\n",
    "# meantotalPhaseTheta = np.mean(totalPhaseTheta, axis=0)\n"
   ]
  },
  {
   "cell_type": "code",
   "execution_count": null,
   "metadata": {},
   "outputs": [],
   "source": [
    "final_theta.shape"
   ]
  },
  {
   "cell_type": "code",
   "execution_count": 15,
   "metadata": {},
   "outputs": [],
   "source": [
    "def draw_phase_spatial_angle_mp4(model,mp4path,step=1):\n",
    "    phi = np.arctan2(totalPositionX[:,:, 1], totalPositionX[:,:, 0])\n",
    "    def plot_frame(i):\n",
    "        pbar.update(1)\n",
    "        phi_dot = phi[i]\n",
    "        phaseTheta_dot = totalPhaseTheta[i]\n",
    "        fig.clear()\n",
    "        ax1 = fig.add_subplot(1, 1, 1)\n",
    "\n",
    "        scatter = ax1.scatter(phi_dot, phaseTheta_dot,s=10)\n",
    "        ax1.set_xlim(-np.pi, np.pi)\n",
    "        ax1.set_ylim(0,2* np.pi)\n",
    "        ax1.set_xlabel(\"$\\phi$\")\n",
    "        ax1.set_ylabel(\"$\\Theta$\")\n",
    "\n",
    "    frames = np.arange(0, totalPositionX.shape[0], step)\n",
    "    pbar = tqdm(total=len(frames))\n",
    "    fig = plt.figure(figsize=(5, 5))\n",
    "    ani = ma.FuncAnimation(fig, plot_frame, frames=frames, interval = 50,repeat=True)\n",
    "    ani.save(f\"{mp4path}/{model}.mp4\", dpi=200)"
   ]
  },
  {
   "cell_type": "code",
   "execution_count": 16,
   "metadata": {},
   "outputs": [
    {
     "data": {
      "application/vnd.jupyter.widget-view+json": {
       "model_id": "ed7a2fc751c2462d8491286ac3b0b934",
       "version_major": 2,
       "version_minor": 0
      },
      "text/plain": [
       "  0%|          | 0/1601 [00:00<?, ?it/s]"
      ]
     },
     "metadata": {},
     "output_type": "display_data"
    },
    {
     "data": {
      "image/png": "[encoded data removed]",
      "text/plain": [
       "<Figure size 500x500 with 1 Axes>"
      ]
     },
     "metadata": {},
     "output_type": "display_data"
    }
   ],
   "source": [
    "draw_phase_spatial_angle_mp4(model,mp4path=\"PSangel\",step=1)"
   ]
  },
  {
   "cell_type": "markdown",
   "metadata": {},
   "source": [
    "# A+-的分析"
   ]
  },
  {
   "cell_type": "code",
   "execution_count": null,
   "metadata": {},
   "outputs": [],
   "source": [
    "N = 100\n",
    "J = 0.1\n",
    "K = -0.6\n",
    "r_c = 0.5\n",
    "\n",
    "model = AdaptiveInteraction2D(agentsNum=N, dt=0.1, J=J, K = K, r_c=r_c,\n",
    "                                  distribution=None, savePath=\"F:/adaptive_data/data_identicalDis\")\n",
    "\n",
    "targetPath = f\"F:/adaptive_data/data_identicalDis/{model}.h5\"\n",
    "totalPositionX = pd.read_hdf(targetPath, key=\"positionX\")\n",
    "totalPhaseTheta = pd.read_hdf(targetPath, key=\"phaseTheta\")\n",
    "totalA_ij = pd.read_hdf(targetPath, key=\"A_ij\")\n",
    "TNum = totalPositionX.shape[0] // model.agentsNum\n",
    "\n",
    "totalPositionX = totalPositionX.values.reshape(TNum, model.agentsNum, 2)\n",
    "transient_index = int(0.9*totalPositionX.shape[0])\n",
    "totalPosition_x = totalPositionX[:, :, 0][transient_index:-1]\n",
    "totalPosition_y = totalPositionX[:, :, 1][transient_index:-1]\n",
    "totalPhaseTheta = totalPhaseTheta.values.reshape(\n",
    "    TNum, model.agentsNum)[transient_index:-1]\n",
    "totalA_ij = totalA_ij.values.reshape(TNum, model.agentsNum, model.agentsNum)[transient_index:-1]\n",
    "# 对totalA_ij的时间平均\n",
    "totalA_ij = totalA_ij.mean(axis=0)\n",
    "\n",
    "# totalA_ij = totalA_ij.values.reshape(TNum, model.agentsNum, model.agentsNum)[-1]\n"
   ]
  },
  {
   "cell_type": "code",
   "execution_count": null,
   "metadata": {},
   "outputs": [],
   "source": [
    "totalA_ij.shape"
   ]
  },
  {
   "cell_type": "code",
   "execution_count": null,
   "metadata": {},
   "outputs": [],
   "source": [
    "# A+为totalA_ij里正值的和，A-为totalA_ij里负值的绝对值的和\n",
    "# A_plus = totalA_ij[totalA_ij>0].sum()\n",
    "A_plus = totalA_ij[totalA_ij>0].sum()/model.agentsNum**2\n",
    "A_minus = - totalA_ij[totalA_ij<0].sum()/model.agentsNum**2\n",
    "print(A_minus)\n",
    "print(A_plus)\n",
    "print(A_plus+A_minus)"
   ]
  },
  {
   "cell_type": "code",
   "execution_count": null,
   "metadata": {},
   "outputs": [],
   "source": [
    "N = 100\n",
    "J = 0.1\n",
    "K = 0.5\n",
    "r_c = np.arange(0,1.01,0.1)\n",
    "A_plus_values = pd.DataFrame(index=r_c, columns=[0])\n",
    "A_minus_values = pd.DataFrame(index=r_c, columns=[0])\n",
    "S_values = pd.DataFrame(index=r_c, columns=[0])\n",
    "R_values = pd.DataFrame(index=r_c, columns=[0])\n",
    "\n",
    "for i, r_c in enumerate(r_c):\n",
    "    model = AdaptiveInteraction2D(agentsNum=N, dt=0.1, J=J, K = K, r_c=r_c,\n",
    "                                  distribution=None, savePath=\"F:/adaptive_data/data_identicalDis\")\n",
    "\n",
    "    sa = StateAnalysis(model)\n",
    "    R = sa.cal_R\n",
    "    R_values.loc[r_c, 0] = R\n",
    "    S = sa.cal_S\n",
    "    S_values.loc[r_c, 0] = S\n",
    "\n",
    "    targetPath = f\"F:/adaptive_data/data_identicalDis/{model}.h5\"\n",
    "    totalA_ij = pd.read_hdf(targetPath, key=\"A_ij\")\n",
    "    TNum = totalA_ij.shape[0] // model.agentsNum\n",
    "\n",
    "    totalA_ij = totalA_ij.values.reshape(TNum, model.agentsNum, model.agentsNum)\n",
    "    transient_index = int(0.9*totalA_ij.shape[0])\n",
    "    totalA_ij = totalA_ij[transient_index:-1]\n",
    "    totalA_ij = totalA_ij.mean(axis=0)\n",
    "    A_plus = totalA_ij[totalA_ij>0].sum()/model.agentsNum**2\n",
    "    A_minus = - totalA_ij[totalA_ij<0].sum()/model.agentsNum**2\n",
    "    A_plus_values.loc[r_c, 0] = A_plus\n",
    "    A_minus_values.loc[r_c, 0] = A_minus\n",
    "\n",
    "# 以r_c为横轴，A_plus,A_minus为纵轴画散点图.A_plus的marker为上三角，A_minus的marker为下三角\n",
    "fig, ax = plt.subplots(figsize=(6, 6))\n",
    "ax.plot(A_plus_values.index, A_plus_values.values, marker='^', label = 'A+',color='b')\n",
    "ax.plot(A_minus_values.index, A_minus_values.values, marker='v', label = 'A-',color='b')\n",
    "ax.plot(S_values.index, S_values.values, marker='o', label = 'S', color='r', linestyle='--')\n",
    "ax.plot(R_values.index, R_values.values, marker='o', label = 'R', color='y', linestyle='--')\n",
    "ax.legend()\n",
    "ax.set_xlabel(\"$r_c$\")\n",
    "ax.set_ylabel(\"$A$\")\n",
    "plt.tight_layout()\n",
    "plt.show()"
   ]
  },
  {
   "cell_type": "markdown",
   "metadata": {},
   "source": [
    "# FileName"
   ]
  },
  {
   "cell_type": "code",
   "execution_count": null,
   "metadata": {},
   "outputs": [],
   "source": [
    "import os\n",
    "import re\n",
    "\n",
    "path = \"./data3\"\n",
    "files = os.listdir(path)\n",
    "for file in files:\n",
    "    if file.endswith(\".h5\"):\n",
    "        new_name = re.sub(r\"rc(\\d+\\.\\d+)\", lambda x: f\"rc{float(x.group(1)):.2f}\", file)\n",
    "        os.rename(f\"{path}/{file}\", f\"{path}/{new_name}\")\n"
   ]
  }
 ],
 "metadata": {
  "kernelspec": {
   "display_name": "base",
   "language": "python",
   "name": "python3"
  },
  "language_info": {
   "codemirror_mode": {
    "name": "ipython",
    "version": 3
   },
   "file_extension": ".py",
   "mimetype": "text/x-python",
   "name": "python",
   "nbconvert_exporter": "python",
   "pygments_lexer": "ipython3",
   "version": "3.11.7"
  }
 },
 "nbformat": 4,
 "nbformat_minor": 2
}
